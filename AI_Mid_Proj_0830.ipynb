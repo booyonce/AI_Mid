{
 "cells": [
  {
   "cell_type": "code",
   "execution_count": 24,
   "id": "acbf3b6c",
   "metadata": {},
   "outputs": [
    {
     "name": "stdout",
     "output_type": "stream",
     "text": [
      "    0 |   23879.3008\n",
      "   50 |     294.6528\n",
      "  100 |      32.8810\n",
      "  150 |      29.9010\n",
      "  200 |      29.7929\n",
      "  250 |      29.7167\n",
      "  300 |      29.6412\n",
      "  350 |      29.5659\n",
      "  400 |      29.4909\n",
      "  450 |      29.4158\n",
      "  500 |      29.3411\n",
      "  550 |      29.2667\n",
      "  600 |      29.1923\n",
      "  650 |      29.1181\n",
      "  700 |      29.0443\n",
      "  750 |      28.9705\n",
      "  800 |      28.8970\n",
      "  850 |      28.8237\n",
      "  900 |      28.7506\n",
      "  950 |      28.6775\n",
      " 1000 |      28.6049\n"
     ]
    }
   ],
   "source": [
    "import tensorflow as tf\n",
    "\n",
    "x1 = [73, 93, 89, 96, 73]\n",
    "x2 = [80, 88, 91, 98, 66]\n",
    "x3 = [75, 93, 90, 100, 70]\n",
    "y = [152, 185, 180, 196, 142]\n",
    "\n",
    "w1 = tf.Variable(tf.random.normal([1]))\n",
    "w2 = tf.Variable(tf.random.normal([1]))\n",
    "w3 = tf.Variable(tf.random.normal([1]))\n",
    "b = tf.Variable(tf.random.normal([1]))\n",
    "\n",
    "learning_rate = 0.000001\n",
    "\n",
    "for i in range(1000+1) : \n",
    "    with tf.GradientTape() as tape:\n",
    "        h = w1*x1 + w2*x2 + w3*x3 + b\n",
    "        cost = tf.reduce_mean(tf.square(h-y))\n",
    "        \n",
    "        w1_grad, w2_grad, w3_grad, b_grad = tape.gradient(cost, [w1, w2, w3, b])\n",
    "        \n",
    "        w1.assign_sub(learning_rate * w1_grad)\n",
    "        w2.assign_sub(learning_rate * w2_grad)\n",
    "        w3.assign_sub(learning_rate * w3_grad)\n",
    "        b.assign_sub(learning_rate * b_grad)\n",
    "        \n",
    "        if i%50 == 0:\n",
    "            print(\"{:5} | {:12.4f}\".format(i, cost.numpy()))"
   ]
  },
  {
   "cell_type": "code",
   "execution_count": null,
   "id": "8e8cd5df",
   "metadata": {},
   "outputs": [],
   "source": []
  }
 ],
 "metadata": {
  "kernelspec": {
   "display_name": "Python 3",
   "language": "python",
   "name": "python3"
  },
  "language_info": {
   "codemirror_mode": {
    "name": "ipython",
    "version": 3
   },
   "file_extension": ".py",
   "mimetype": "text/x-python",
   "name": "python",
   "nbconvert_exporter": "python",
   "pygments_lexer": "ipython3",
   "version": "3.8.8"
  }
 },
 "nbformat": 4,
 "nbformat_minor": 5
}
